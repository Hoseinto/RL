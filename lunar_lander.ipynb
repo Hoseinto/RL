{
  "cells": [
    {
      "cell_type": "markdown",
      "metadata": {
        "id": "KAOaeaY32BEM"
      },
      "source": [
        "# Performance Analysis of DQN Algorithm on the Lunar Lander task\n",
        "\n",
        "**By Neuromatch Academy**\n",
        "\n",
        "__Content creators:__ Raghuram Bharadwaj Diddigi, Geraud Nangue Tasse, Yamil Vidal, Sanjukta Krishnagopal, Sara Rajaee\n",
        "\n",
        "__Content editors:__ Spiros Chavlis"
      ]
    },
    {
      "cell_type": "markdown",
      "metadata": {
        "id": "Wnm0nqhu2BEP"
      },
      "source": [
        "---\n",
        "# Objective\n",
        "\n",
        "In this project, the objective is to analyze the performance of the Deep Q-Learning algorithm on an exciting task- Lunar Lander. Before we describe the task, let us focus on two keywords here - analysis and performance. What exactly do we mean by these keywords in the context of Reinforcement Learning (RL)?"
      ]
    },
    {
      "cell_type": "markdown",
      "metadata": {
        "id": "poBJdDik2BEQ"
      },
      "source": [
        "---\n",
        "# Setup"
      ]
    },
    {
      "cell_type": "code",
      "execution_count": null,
      "metadata": {
        "id": "EQX6ceEN2BEQ"
      },
      "outputs": [],
      "source": [
        "# @title Update/Upgrade the system and install libs\n",
        "!apt-get update > /dev/null 2>&1\n",
        "!apt-get install -y xvfb python-opengl ffmpeg > /dev/null 2>&1\n",
        "!apt-get install -y swig build-essential python-dev python3-dev > /dev/null 2>&1"
      ]
    },
    {
      "cell_type": "code",
      "execution_count": null,
      "metadata": {
        "colab": {
          "base_uri": "https://localhost:8080/"
        },
        "id": "X6M1xM_y2BES",
        "outputId": "c3a3a7bb-c961-407e-e9c8-c55769bec865"
      },
      "outputs": [
        {
          "name": "stdout",
          "output_type": "stream",
          "text": [
            "\u001b[?25l     \u001b[90m━━━━━━━━━━━━━━━━━━━━━━━━━━━━━━━━━━━━━━━━\u001b[0m \u001b[32m0.0/178.4 kB\u001b[0m \u001b[31m?\u001b[0m eta \u001b[36m-:--:--\u001b[0m\r\u001b[2K     \u001b[91m━━━━━━━━━━━━━━━━━━━━━━━━━━━━━━━━━━━━━━\u001b[0m\u001b[90m╺\u001b[0m \u001b[32m174.1/178.4 kB\u001b[0m \u001b[31m6.0 MB/s\u001b[0m eta \u001b[36m0:00:01\u001b[0m\r\u001b[2K     \u001b[90m━━━━━━━━━━━━━━━━━━━━━━━━━━━━━━━━━━━━━━━\u001b[0m \u001b[32m178.4/178.4 kB\u001b[0m \u001b[31m4.7 MB/s\u001b[0m eta \u001b[36m0:00:00\u001b[0m\n",
            "\u001b[2K     \u001b[90m━━━━━━━━━━━━━━━━━━━━━━━━━━━━━━━━━━━━━━\u001b[0m \u001b[32m925.5/925.5 kB\u001b[0m \u001b[31m23.5 MB/s\u001b[0m eta \u001b[36m0:00:00\u001b[0m\n",
            "\u001b[2K     \u001b[90m━━━━━━━━━━━━━━━━━━━━━━━━━━━━━━━━━━━━━━\u001b[0m \u001b[32m434.7/434.7 kB\u001b[0m \u001b[31m34.3 MB/s\u001b[0m eta \u001b[36m0:00:00\u001b[0m\n",
            "\u001b[?25h  Installing build dependencies ... \u001b[?25l\u001b[?25hdone\n",
            "  Getting requirements to build wheel ... \u001b[?25l\u001b[?25hdone\n",
            "  Preparing metadata (pyproject.toml) ... \u001b[?25l\u001b[?25hdone\n",
            "\u001b[2K     \u001b[90m━━━━━━━━━━━━━━━━━━━━━━━━━━━━━━━━━━━━━━━━\u001b[0m \u001b[32m1.7/1.7 MB\u001b[0m \u001b[31m53.2 MB/s\u001b[0m eta \u001b[36m0:00:00\u001b[0m\n",
            "\u001b[?25h  Building wheel for AutoROM.accept-rom-license (pyproject.toml) ... \u001b[?25l\u001b[?25hdone\n",
            "\u001b[2K     \u001b[90m━━━━━━━━━━━━━━━━━━━━━━━━━━━━━━━━━━━━━━━\u001b[0m \u001b[32m374.4/374.4 kB\u001b[0m \u001b[31m7.2 MB/s\u001b[0m eta \u001b[36m0:00:00\u001b[0m\n",
            "\u001b[?25h  Preparing metadata (setup.py) ... \u001b[?25l\u001b[?25hdone\n",
            "\u001b[2K     \u001b[90m━━━━━━━━━━━━━━━━━━━━━━━━━━━━━━━━━━━━━━━━\u001b[0m \u001b[32m18.3/18.3 MB\u001b[0m \u001b[31m47.9 MB/s\u001b[0m eta \u001b[36m0:00:00\u001b[0m\n",
            "\u001b[2K     \u001b[90m━━━━━━━━━━━━━━━━━━━━━━━━━━━━━━━━━━━━━━━━\u001b[0m \u001b[32m1.8/1.8 MB\u001b[0m \u001b[31m70.1 MB/s\u001b[0m eta \u001b[36m0:00:00\u001b[0m\n",
            "\u001b[?25h  Building wheel for box2d-py (setup.py) ... \u001b[?25l\u001b[?25hdone\n",
            "\u001b[2K     \u001b[90m━━━━━━━━━━━━━━━━━━━━━━━━━━━━━━━━━━━━━━\u001b[0m \u001b[32m853.1/853.1 kB\u001b[0m \u001b[31m11.4 MB/s\u001b[0m eta \u001b[36m0:00:00\u001b[0m\n",
            "\u001b[2K     \u001b[90m━━━━━━━━━━━━━━━━━━━━━━━━━━━━━━━━━━━━━━━\u001b[0m \u001b[32m103.1/103.1 kB\u001b[0m \u001b[31m3.4 MB/s\u001b[0m eta \u001b[36m0:00:00\u001b[0m\n",
            "\u001b[2K     \u001b[90m━━━━━━━━━━━━━━━━━━━━━━━━━━━━━━━━━━━━━━━━\u001b[0m \u001b[32m13.9/13.9 MB\u001b[0m \u001b[31m48.9 MB/s\u001b[0m eta \u001b[36m0:00:00\u001b[0m\n",
            "\u001b[?25h"
          ]
        }
      ],
      "source": [
        "# @title Install dependencies\n",
        "!pip install rarfile --quiet\n",
        "!pip install stable-baselines3[extra] --quiet\n",
        "!pip install ale-py --quiet\n",
        "!pip install gym[box2d] --quiet\n",
        "!pip install pyvirtualdisplay --quiet\n",
        "!pip install pyglet --quiet\n",
        "!pip install pygame --quiet\n",
        "!pip install minigrid --quiet"
      ]
    },
    {
      "cell_type": "code",
      "execution_count": null,
      "metadata": {
        "colab": {
          "base_uri": "https://localhost:8080/"
        },
        "id": "iZowIyUx2BET",
        "outputId": "974466c3-5a3b-44e7-ebf0-64938fefcd59"
      },
      "outputs": [
        {
          "name": "stdout",
          "output_type": "stream",
          "text": [
            "pygame 2.5.0 (SDL 2.28.0, Python 3.10.12)\n",
            "Hello from the pygame community. https://www.pygame.org/contribute.html\n"
          ]
        },
        {
          "name": "stderr",
          "output_type": "stream",
          "text": [
            "/usr/local/lib/python3.10/dist-packages/torch/utils/tensorboard/__init__.py:4: DeprecationWarning: distutils Version classes are deprecated. Use packaging.version instead.\n",
            "  if not hasattr(tensorboard, \"__version__\") or LooseVersion(\n"
          ]
        }
      ],
      "source": [
        "# Imports\n",
        "import io\n",
        "import os\n",
        "import glob\n",
        "import torch\n",
        "import base64\n",
        "\n",
        "import numpy as np\n",
        "import matplotlib.pyplot as plt\n",
        "\n",
        "import sys\n",
        "import gymnasium\n",
        "sys.modules[\"gym\"] = gymnasium\n",
        "\n",
        "import stable_baselines3\n",
        "from stable_baselines3 import DQN\n",
        "from stable_baselines3.common.results_plotter import ts2xy, load_results\n",
        "from stable_baselines3.common.callbacks import EvalCallback\n",
        "from stable_baselines3.common.env_util import make_atari_env\n",
        "\n",
        "import gymnasium as gym\n",
        "from gym import spaces\n",
        "from gym.wrappers.monitoring.video_recorder import VideoRecorder"
      ]
    },
    {
      "cell_type": "code",
      "execution_count": null,
      "metadata": {
        "colab": {
          "base_uri": "https://localhost:8080/"
        },
        "id": "JXSKpyZl2BET",
        "outputId": "65a18b6f-7299-41c2-a2bf-db279fe8bac1"
      },
      "outputs": [
        {
          "name": "stderr",
          "output_type": "stream",
          "text": [
            "/usr/local/lib/python3.10/dist-packages/ipykernel/ipkernel.py:283: DeprecationWarning: `should_run_async` will not call `transform_cell` automatically in the future. Please pass the result to `transformed_cell` argument and any exception that happen during thetransform in `preprocessing_exc_tuple` in IPython 7.17 and above.\n",
            "  and should_run_async(code)\n"
          ]
        }
      ],
      "source": [
        "# @title Play Video function\n",
        "from IPython.display import HTML\n",
        "from base64 import b64encode\n",
        "from pyvirtualdisplay import Display\n",
        "\n",
        "# create the directory to store the video(s)\n",
        "os.makedirs(\"./video\", exist_ok=True)\n",
        "\n",
        "display = Display(visible=False, size=(1400, 900))\n",
        "_ = display.start()\n",
        "\n",
        "\"\"\"\n",
        "Utility functions to enable video recording of gym environment\n",
        "and displaying it.\n",
        "To enable video, just do \"env = wrap_env(env)\"\"\n",
        "\"\"\"\n",
        "def render_mp4(videopath: str) -> str:\n",
        "  \"\"\"\n",
        "  Gets a string containing a b4-encoded version of the MP4 video\n",
        "  at the specified path.\n",
        "  \"\"\"\n",
        "  mp4 = open(videopath, 'rb').read()\n",
        "  base64_encoded_mp4 = b64encode(mp4).decode()\n",
        "  return f'<video width=400 controls><source src=\"data:video/mp4;' \\\n",
        "         f'base64,{base64_encoded_mp4}\" type=\"video/mp4\"></video>'"
      ]
    },
    {
      "cell_type": "markdown",
      "metadata": {
        "id": "xo9PtZ3I2BEU"
      },
      "source": [
        "---\n",
        "# Introduction\n",
        "\n",
        "In a standard RL setting, an agent learns optimal behavior from an environment through a feedback mechanism to maximize a given objective. Many algorithms have been proposed in the RL literature that an agent can apply to learn the optimal behavior. One such popular algorithm is the Deep Q-Network (DQN). This algorithm makes use of deep neural networks to compute optimal actions. In this project, your goal is to understand the effect of the number of neural network layers on the algorithm's performance. The performance of the algorithm can be evaluated through two metrics - Speed and Stability.\n",
        "\n",
        "**Speed:** How fast the algorithm reaches the maximum possible reward.\n",
        "\n",
        "**Stability** In some applications (especially when online learning is involved), along with speed, stability of the algorithm, i.e., minimal fluctuations in performance, is equally important.\n",
        "\n",
        "In this project, you should investigate the following question:\n",
        "\n",
        "**What is the impact of number of neural network layers on speed and stability of the algorithm?**\n",
        "\n",
        "You do not have to write the DQN code from scratch. We have provided a basic implementation of the DQN algorithm. You only have to tune the hyperparameters (neural network size, learning rate, etc), observe the performance, and analyze. More details on this are provided below.\n",
        "\n",
        "Now, let us discuss the RL task we have chosen, i.e., Lunar Lander. This task consists of the lander and a landing pad marked by two flags. The episode starts with the lander moving downwards due to gravity. The objective is to land safely using different engines available on the lander with zero speed on the landing pad as quickly and fuel efficient as possible. Reward for moving from the top of the screen and landing on landing pad with zero speed is between 100 to 140 points. Each leg ground contact yields a reward of 10 points. Firing main engine leads to a reward of -0.3 points in each frame. Firing the side engine leads to a reward of -0.03 points in each frame. An additional reward of -100 or +100 points is received if the lander crashes or comes to rest respectively which also leads to end of the episode.\n",
        "\n",
        "The input state of the Lunar Lander consists of following components:\n",
        "\n",
        "  1. Horizontal Position\n",
        "  2. Vertical Position\n",
        "  3. Horizontal Velocity\n",
        "  4. Vertical Velocity\n",
        "  5. Angle\n",
        "  6. Angular Velocity\n",
        "  7. Left Leg Contact\n",
        "  8. Right Leg Contact\n",
        "\n",
        "The actions of the agents are:\n",
        "  1. Do Nothing\n",
        "  2. Fire Main Engine\n",
        "  3. Fire Left Engine\n",
        "  4. Fire Right Engine\n",
        "\n",
        "\n",
        "<img src=\"https://raw.githubusercontent.com/NeuromatchAcademy/course-content-dl/main/projects/static/lunar_lander.png\">"
      ]
    },
    {
      "cell_type": "markdown",
      "metadata": {
        "id": "uNYUUCvf2BEU"
      },
      "source": [
        "---\n",
        "# Basic DQN Implementation\n",
        "\n",
        "We will now implement the DQN algorithm using the existing code base. We encourage you to understand this example and re-use it in an application/project of your choice!"
      ]
    },
    {
      "cell_type": "markdown",
      "metadata": {
        "id": "CAZMFKgA2BEU"
      },
      "source": [
        "Now, let us set some hyperparameters for our algorithm. This is the only part you would play around with, to solve the first part of the project."
      ]
    },
    {
      "cell_type": "code",
      "execution_count": null,
      "metadata": {
        "colab": {
          "base_uri": "https://localhost:8080/"
        },
        "id": "T4fBnoHV2BEU",
        "outputId": "83dd568e-be9c-4f40-d06b-2be44e60d943"
      },
      "outputs": [
        {
          "name": "stderr",
          "output_type": "stream",
          "text": [
            "/usr/local/lib/python3.10/dist-packages/ipykernel/ipkernel.py:283: DeprecationWarning: `should_run_async` will not call `transform_cell` automatically in the future. Please pass the result to `transformed_cell` argument and any exception that happen during thetransform in `preprocessing_exc_tuple` in IPython 7.17 and above.\n",
            "  and should_run_async(code)\n"
          ]
        }
      ],
      "source": [
        "nn_layers = [16, 16]  # This is the configuration of your neural network. Currently, we have two layers, each consisting of 64 neurons.\n",
        "                      # If you want three layers with 64 neurons each, set the value to [64,64,64] and so on.\n",
        "\n",
        "learning_rate = 0.001  # This is the step-size with which the gradient descent is carried out.\n",
        "                       # Tip: Use smaller step-sizes for larger networks."
      ]
    },
    {
      "cell_type": "markdown",
      "metadata": {
        "id": "15X_yzBz2BEV"
      },
      "source": [
        "Now, let us setup our model and the DQN algorithm."
      ]
    },
    {
      "cell_type": "code",
      "execution_count": null,
      "metadata": {
        "id": "MP_G5Akv2BEV"
      },
      "outputs": [],
      "source": [
        "log_dir = \"/tmp/gym/\"\n",
        "os.makedirs(log_dir, exist_ok=True)\n",
        "\n",
        "# Create environment\n",
        "env_name = 'LunarLander-v2'\n",
        "env = gym.make(env_name)\n",
        "# You can also load other environments like cartpole, MountainCar, Acrobot.\n",
        "# Refer to https://gym.openai.com/docs/ for descriptions.\n",
        "\n",
        "# For example, if you would like to load Cartpole,\n",
        "# just replace the above statement with \"env = gym.make('CartPole-v1')\".\n",
        "\n",
        "env = stable_baselines3.common.monitor.Monitor(env, log_dir )\n",
        "\n",
        "callback = EvalCallback(env, log_path=log_dir, deterministic=True)  # For evaluating the performance of the agent periodically and logging the results.\n",
        "policy_kwargs = dict(activation_fn=torch.nn.ReLU,\n",
        "                     net_arch=nn_layers)\n",
        "\n",
        "device = torch.device('cuda' if torch.cuda.is_available() else 'cpu')\n",
        "model = DQN(\"MlpPolicy\", env, policy_kwargs = policy_kwargs,\n",
        "            learning_rate=learning_rate,\n",
        "            batch_size=1,  # for simplicity, we are not doing batch update.\n",
        "            buffer_size=1,  # size of experience of replay buffer. Set to 1 as batch update is not done\n",
        "            learning_starts=1,  # learning starts immediately!\n",
        "            gamma=0.99,  # discount facto. range is between 0 and 1.\n",
        "            tau = 1,  # the soft update coefficient for updating the target network\n",
        "            target_update_interval=1,  # update the target network immediately.\n",
        "            train_freq=(1,\"step\"),  # train the network at every step.\n",
        "            max_grad_norm = 10,  # the maximum value for the gradient clipping\n",
        "            exploration_initial_eps = 1,  # initial value of random action probability\n",
        "            exploration_fraction = 0.5,  # fraction of entire training period over which the exploration rate is reduced\n",
        "            gradient_steps = 1,  # number of gradient steps\n",
        "            seed = 1,  # seed for the pseudo random generators\n",
        "            verbose=0,  # Set verbose to 1 to observe training logs. We encourage you to set the verbose to 1.\n",
        "            device = device)\n",
        "# You can also experiment with other RL algorithms like A2C, PPO, DDPG etc.\n",
        "# Refer to  https://stable-baselines3.readthedocs.io/en/master/guide/examples.html\n",
        "# for documentation. For example, if you would like to run DDPG, just replace \"DQN\" above with \"DDPG\"."
      ]
    },
    {
      "cell_type": "markdown",
      "metadata": {
        "id": "PCKFTVcL2BEV"
      },
      "source": [
        "Before we train the model, let us look at an instance of Lunar Lander **before training**.  \n",
        "\n",
        "**Note:** The following code for rendering the video is taken from [here](https://colab.research.google.com/github/jeffheaton/t81_558_deep_learning/blob/master/t81_558_class_12_01_ai_gym.ipynb#scrollTo=T9RpF49oOsZj)."
      ]
    },
    {
      "cell_type": "code",
      "execution_count": null,
      "metadata": {
        "colab": {
          "base_uri": "https://localhost:8080/"
        },
        "id": "rxUiBg322BEV",
        "outputId": "6da2c01b-d06e-4c4b-e3f1-28cc9b495094"
      },
      "outputs": [
        {
          "name": "stdout",
          "output_type": "stream",
          "text": [
            "State shape:  (8,)\n",
            "Number of actions:  4\n"
          ]
        }
      ],
      "source": [
        "env_name = 'LunarLander-v2'\n",
        "env = gym.make(env_name)\n",
        "print('State shape: ', env.observation_space.shape)\n",
        "print('Number of actions: ', env.action_space.n)"
      ]
    },
    {
      "cell_type": "code",
      "execution_count": null,
      "metadata": {
        "colab": {
          "base_uri": "https://localhost:8080/",
          "height": 401
        },
        "id": "B2_cZydl2BEV",
        "outputId": "8502dcb3-128d-49a0-c84a-8d8b7b9c42da"
      },
      "outputs": [
        {
          "name": "stderr",
          "output_type": "stream",
          "text": [
            "/usr/local/lib/python3.10/dist-packages/gym/wrappers/monitoring/video_recorder.py:101: DeprecationWarning: \u001b[33mWARN: <class 'gym.wrappers.monitoring.video_recorder.VideoRecorder'> is marked as deprecated and will be removed in the future.\u001b[0m\n",
            "  logger.deprecation(\n"
          ]
        },
        {
          "name": "stdout",
          "output_type": "stream",
          "text": [
            "\n",
            "Total reward: -633.0130039077912\n"
          ]
        },
        {
          "data": {
            "text/html": [
              "<video width=400 controls><source src=\"data:video/mp4;base64,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\" type=\"video/mp4\"></video>"
            ],
            "text/plain": [
              "<IPython.core.display.HTML object>"
            ]
          },
          "execution_count": 8,
          "metadata": {},
          "output_type": "execute_result"
        }
      ],
      "source": [
        "env = gym.make(env_name, render_mode=\"rgb_array\")\n",
        "vid = VideoRecorder(env, path=f\"video/{env_name}_pretraining.mp4\")\n",
        "observation = env.reset()[0]\n",
        "\n",
        "total_reward = 0\n",
        "done = False\n",
        "while not done:\n",
        "  frame = env.render()\n",
        "  vid.capture_frame()\n",
        "  action, states = model.predict(observation, deterministic=True)\n",
        "  observation, reward, done, info, _ = env.step(action)\n",
        "  total_reward += reward\n",
        "vid.close()\n",
        "env.close()\n",
        "print(f\"\\nTotal reward: {total_reward}\")\n",
        "\n",
        "# show video\n",
        "html = render_mp4(f\"video/{env_name}_pretraining.mp4\")\n",
        "HTML(html)"
      ]
    },
    {
      "cell_type": "markdown",
      "metadata": {
        "id": "zbGgZ4l12BEV"
      },
      "source": [
        "From the video above, we see that the lander has crashed!\n",
        "It is now the time for training!\n"
      ]
    },
    {
      "cell_type": "code",
      "execution_count": null,
      "metadata": {
        "colab": {
          "base_uri": "https://localhost:8080/"
        },
        "id": "VgD0pjymJADi",
        "outputId": "cb93b252-fe01-4629-f21a-591cc5d20c0b"
      },
      "outputs": [
        {
          "name": "stderr",
          "output_type": "stream",
          "text": [
            "/usr/local/lib/python3.10/dist-packages/ipykernel/ipkernel.py:283: DeprecationWarning: `should_run_async` will not call `transform_cell` automatically in the future. Please pass the result to `transformed_cell` argument and any exception that happen during thetransform in `preprocessing_exc_tuple` in IPython 7.17 and above.\n",
            "  and should_run_async(code)\n"
          ]
        },
        {
          "data": {
            "text/plain": [
              "device(type='cpu')"
            ]
          },
          "execution_count": 9,
          "metadata": {},
          "output_type": "execute_result"
        }
      ],
      "source": [
        "device"
      ]
    },
    {
      "cell_type": "code",
      "execution_count": null,
      "metadata": {
        "colab": {
          "base_uri": "https://localhost:8080/",
          "height": 435,
          "referenced_widgets": [
            "eb5841e289a0492b8a64d30708b800c0",
            "87d510a4894d4ffeb6451984b8cb900e"
          ]
        },
        "id": "55bR2uGw2BEW",
        "outputId": "c9b11618-e409-4d40-b3da-ce7e3303728a"
      },
      "outputs": [
        {
          "data": {
            "application/vnd.jupyter.widget-view+json": {
              "model_id": "eb5841e289a0492b8a64d30708b800c0",
              "version_major": 2,
              "version_minor": 0
            },
            "text/plain": [
              "Output()"
            ]
          },
          "metadata": {},
          "output_type": "display_data"
        },
        {
          "data": {
            "text/html": [
              "<pre style=\"white-space:pre;overflow-x:auto;line-height:normal;font-family:Menlo,'DejaVu Sans Mono',consolas,'Courier New',monospace\">Eval num_timesteps=10000, episode_reward=-1751.54 +/- 1138.45\n",
              "</pre>\n"
            ],
            "text/plain": [
              "Eval num_timesteps=10000, episode_reward=-1751.54 +/- 1138.45\n"
            ]
          },
          "metadata": {},
          "output_type": "display_data"
        },
        {
          "data": {
            "text/html": [
              "<pre style=\"white-space:pre;overflow-x:auto;line-height:normal;font-family:Menlo,'DejaVu Sans Mono',consolas,'Courier New',monospace\">Episode length: 247.60 +/- 101.26\n",
              "</pre>\n"
            ],
            "text/plain": [
              "Episode length: 247.60 +/- 101.26\n"
            ]
          },
          "metadata": {},
          "output_type": "display_data"
        },
        {
          "data": {
            "text/html": [
              "<pre style=\"white-space:pre;overflow-x:auto;line-height:normal;font-family:Menlo,'DejaVu Sans Mono',consolas,'Courier New',monospace\">New best mean reward!\n",
              "</pre>\n"
            ],
            "text/plain": [
              "New best mean reward!\n"
            ]
          },
          "metadata": {},
          "output_type": "display_data"
        },
        {
          "data": {
            "text/html": [
              "<pre style=\"white-space:pre;overflow-x:auto;line-height:normal;font-family:Menlo,'DejaVu Sans Mono',consolas,'Courier New',monospace\">Eval num_timesteps=20000, episode_reward=-127.51 +/- 14.47\n",
              "</pre>\n"
            ],
            "text/plain": [
              "Eval num_timesteps=20000, episode_reward=-127.51 +/- 14.47\n"
            ]
          },
          "metadata": {},
          "output_type": "display_data"
        },
        {
          "data": {
            "text/html": [
              "<pre style=\"white-space:pre;overflow-x:auto;line-height:normal;font-family:Menlo,'DejaVu Sans Mono',consolas,'Courier New',monospace\">Episode length: 71.40 +/- 6.15\n",
              "</pre>\n"
            ],
            "text/plain": [
              "Episode length: 71.40 +/- 6.15\n"
            ]
          },
          "metadata": {},
          "output_type": "display_data"
        },
        {
          "data": {
            "text/html": [
              "<pre style=\"white-space:pre;overflow-x:auto;line-height:normal;font-family:Menlo,'DejaVu Sans Mono',consolas,'Courier New',monospace\">New best mean reward!\n",
              "</pre>\n"
            ],
            "text/plain": [
              "New best mean reward!\n"
            ]
          },
          "metadata": {},
          "output_type": "display_data"
        },
        {
          "data": {
            "text/html": [
              "<pre style=\"white-space:pre;overflow-x:auto;line-height:normal;font-family:Menlo,'DejaVu Sans Mono',consolas,'Courier New',monospace\">Eval num_timesteps=30000, episode_reward=-138.85 +/- 31.32\n",
              "</pre>\n"
            ],
            "text/plain": [
              "Eval num_timesteps=30000, episode_reward=-138.85 +/- 31.32\n"
            ]
          },
          "metadata": {},
          "output_type": "display_data"
        },
        {
          "data": {
            "text/html": [
              "<pre style=\"white-space:pre;overflow-x:auto;line-height:normal;font-family:Menlo,'DejaVu Sans Mono',consolas,'Courier New',monospace\">Episode length: 70.60 +/- 11.64\n",
              "</pre>\n"
            ],
            "text/plain": [
              "Episode length: 70.60 +/- 11.64\n"
            ]
          },
          "metadata": {},
          "output_type": "display_data"
        },
        {
          "data": {
            "text/html": [
              "<pre style=\"white-space:pre;overflow-x:auto;line-height:normal;font-family:Menlo,'DejaVu Sans Mono',consolas,'Courier New',monospace\">Eval num_timesteps=40000, episode_reward=-2133.82 +/- 1116.28\n",
              "</pre>\n"
            ],
            "text/plain": [
              "Eval num_timesteps=40000, episode_reward=-2133.82 +/- 1116.28\n"
            ]
          },
          "metadata": {},
          "output_type": "display_data"
        },
        {
          "data": {
            "text/html": [
              "<pre style=\"white-space:pre;overflow-x:auto;line-height:normal;font-family:Menlo,'DejaVu Sans Mono',consolas,'Courier New',monospace\">Episode length: 641.00 +/- 204.17\n",
              "</pre>\n"
            ],
            "text/plain": [
              "Episode length: 641.00 +/- 204.17\n"
            ]
          },
          "metadata": {},
          "output_type": "display_data"
        },
        {
          "data": {
            "text/html": [
              "<pre style=\"white-space:pre;overflow-x:auto;line-height:normal;font-family:Menlo,'DejaVu Sans Mono',consolas,'Courier New',monospace\">Eval num_timesteps=50000, episode_reward=47.99 +/- 219.28\n",
              "</pre>\n"
            ],
            "text/plain": [
              "Eval num_timesteps=50000, episode_reward=47.99 +/- 219.28\n"
            ]
          },
          "metadata": {},
          "output_type": "display_data"
        },
        {
          "data": {
            "text/html": [
              "<pre style=\"white-space:pre;overflow-x:auto;line-height:normal;font-family:Menlo,'DejaVu Sans Mono',consolas,'Courier New',monospace\">Episode length: 367.60 +/- 137.53\n",
              "</pre>\n"
            ],
            "text/plain": [
              "Episode length: 367.60 +/- 137.53\n"
            ]
          },
          "metadata": {},
          "output_type": "display_data"
        },
        {
          "data": {
            "text/html": [
              "<pre style=\"white-space:pre;overflow-x:auto;line-height:normal;font-family:Menlo,'DejaVu Sans Mono',consolas,'Courier New',monospace\">New best mean reward!\n",
              "</pre>\n"
            ],
            "text/plain": [
              "New best mean reward!\n"
            ]
          },
          "metadata": {},
          "output_type": "display_data"
        },
        {
          "data": {
            "text/html": [
              "<pre style=\"white-space:pre;overflow-x:auto;line-height:normal;font-family:Menlo,'DejaVu Sans Mono',consolas,'Courier New',monospace\">Eval num_timesteps=60000, episode_reward=-2.19 +/- 115.74\n",
              "</pre>\n"
            ],
            "text/plain": [
              "Eval num_timesteps=60000, episode_reward=-2.19 +/- 115.74\n"
            ]
          },
          "metadata": {},
          "output_type": "display_data"
        },
        {
          "data": {
            "text/html": [
              "<pre style=\"white-space:pre;overflow-x:auto;line-height:normal;font-family:Menlo,'DejaVu Sans Mono',consolas,'Courier New',monospace\">Episode length: 468.40 +/- 132.48\n",
              "</pre>\n"
            ],
            "text/plain": [
              "Episode length: 468.40 +/- 132.48\n"
            ]
          },
          "metadata": {},
          "output_type": "display_data"
        },
        {
          "data": {
            "text/html": [
              "<pre style=\"white-space:pre;overflow-x:auto;line-height:normal;font-family:Menlo,'DejaVu Sans Mono',consolas,'Courier New',monospace\">Eval num_timesteps=70000, episode_reward=-84.11 +/- 96.83\n",
              "</pre>\n"
            ],
            "text/plain": [
              "Eval num_timesteps=70000, episode_reward=-84.11 +/- 96.83\n"
            ]
          },
          "metadata": {},
          "output_type": "display_data"
        },
        {
          "data": {
            "text/html": [
              "<pre style=\"white-space:pre;overflow-x:auto;line-height:normal;font-family:Menlo,'DejaVu Sans Mono',consolas,'Courier New',monospace\">Episode length: 448.20 +/- 85.01\n",
              "</pre>\n"
            ],
            "text/plain": [
              "Episode length: 448.20 +/- 85.01\n"
            ]
          },
          "metadata": {},
          "output_type": "display_data"
        },
        {
          "data": {
            "text/html": [
              "<pre style=\"white-space:pre;overflow-x:auto;line-height:normal;font-family:Menlo,'DejaVu Sans Mono',consolas,'Courier New',monospace\">Eval num_timesteps=80000, episode_reward=-0.23 +/- 126.86\n",
              "</pre>\n"
            ],
            "text/plain": [
              "Eval num_timesteps=80000, episode_reward=-0.23 +/- 126.86\n"
            ]
          },
          "metadata": {},
          "output_type": "display_data"
        },
        {
          "data": {
            "text/html": [
              "<pre style=\"white-space:pre;overflow-x:auto;line-height:normal;font-family:Menlo,'DejaVu Sans Mono',consolas,'Courier New',monospace\">Episode length: 807.40 +/- 120.65\n",
              "</pre>\n"
            ],
            "text/plain": [
              "Episode length: 807.40 +/- 120.65\n"
            ]
          },
          "metadata": {},
          "output_type": "display_data"
        },
        {
          "data": {
            "text/html": [
              "<pre style=\"white-space:pre;overflow-x:auto;line-height:normal;font-family:Menlo,'DejaVu Sans Mono',consolas,'Courier New',monospace\">Eval num_timesteps=90000, episode_reward=135.95 +/- 28.86\n",
              "</pre>\n"
            ],
            "text/plain": [
              "Eval num_timesteps=90000, episode_reward=135.95 +/- 28.86\n"
            ]
          },
          "metadata": {},
          "output_type": "display_data"
        },
        {
          "data": {
            "text/html": [
              "<pre style=\"white-space:pre;overflow-x:auto;line-height:normal;font-family:Menlo,'DejaVu Sans Mono',consolas,'Courier New',monospace\">Episode length: 917.60 +/- 76.63\n",
              "</pre>\n"
            ],
            "text/plain": [
              "Episode length: 917.60 +/- 76.63\n"
            ]
          },
          "metadata": {},
          "output_type": "display_data"
        },
        {
          "data": {
            "text/html": [
              "<pre style=\"white-space:pre;overflow-x:auto;line-height:normal;font-family:Menlo,'DejaVu Sans Mono',consolas,'Courier New',monospace\">New best mean reward!\n",
              "</pre>\n"
            ],
            "text/plain": [
              "New best mean reward!\n"
            ]
          },
          "metadata": {},
          "output_type": "display_data"
        },
        {
          "data": {
            "text/html": [
              "<pre style=\"white-space:pre;overflow-x:auto;line-height:normal;font-family:Menlo,'DejaVu Sans Mono',consolas,'Courier New',monospace\">Eval num_timesteps=100000, episode_reward=102.49 +/- 101.89\n",
              "</pre>\n"
            ],
            "text/plain": [
              "Eval num_timesteps=100000, episode_reward=102.49 +/- 101.89\n"
            ]
          },
          "metadata": {},
          "output_type": "display_data"
        },
        {
          "data": {
            "text/html": [
              "<pre style=\"white-space:pre;overflow-x:auto;line-height:normal;font-family:Menlo,'DejaVu Sans Mono',consolas,'Courier New',monospace\">Episode length: 239.40 +/- 83.61\n",
              "</pre>\n"
            ],
            "text/plain": [
              "Episode length: 239.40 +/- 83.61\n"
            ]
          },
          "metadata": {},
          "output_type": "display_data"
        },
        {
          "data": {
            "text/html": [
              "<pre style=\"white-space:pre;overflow-x:auto;line-height:normal;font-family:Menlo,'DejaVu Sans Mono',consolas,'Courier New',monospace\"></pre>\n"
            ],
            "text/plain": []
          },
          "metadata": {},
          "output_type": "display_data"
        },
        {
          "data": {
            "text/html": [
              "<pre style=\"white-space:pre;overflow-x:auto;line-height:normal;font-family:Menlo,'DejaVu Sans Mono',consolas,'Courier New',monospace\">\n",
              "</pre>\n"
            ],
            "text/plain": [
              "\n"
            ]
          },
          "metadata": {},
          "output_type": "display_data"
        },
        {
          "data": {
            "text/plain": [
              "<stable_baselines3.dqn.dqn.DQN at 0x7cae61aabdf0>"
            ]
          },
          "execution_count": 10,
          "metadata": {},
          "output_type": "execute_result"
        }
      ],
      "source": [
        "model.learn(total_timesteps=100000, log_interval=10, callback=callback, progress_bar=True)\n",
        "# The performance of the training will be printed every 10 episodes. Change it to 1, if you wish to\n",
        "# view the performance at every training episode."
      ]
    },
    {
      "cell_type": "markdown",
      "metadata": {
        "id": "QmyZkA-r2BEW"
      },
      "source": [
        "The training takes time. We encourage you to analyze the output logs (set verbose to 1 to print the output logs). The main component of the logs that you should track is \"ep_rew_mean\" (mean of episode rewards). As the training proceeds, the value of \"ep_rew_mean\" should increase. The improvement need not be monotonic, but the trend should be upwards!\n",
        "\n",
        "Along with training, we are also periodically evaluating the performance of the current model during the training. This was reported in logs as follows:\n",
        "\n",
        "```\n",
        "Eval num_timesteps=100000, episode_reward=63.41 +/- 130.02\n",
        "Episode length: 259.80 +/- 47.47\n",
        "```"
      ]
    },
    {
      "cell_type": "markdown",
      "metadata": {
        "id": "mGWm6rw-2BEW"
      },
      "source": [
        "Now, let us look at the visual performance of the lander.\n",
        "\n",
        "**Note:** The performance varies across different seeds and runs. This code is not optimized to be stable across all runs and seeds. We hope you will be able to find an optimal configuration!"
      ]
    },
    {
      "cell_type": "code",
      "execution_count": null,
      "metadata": {
        "colab": {
          "base_uri": "https://localhost:8080/",
          "height": 314
        },
        "id": "D_dI4DUW2BEW",
        "outputId": "45443551-dc97-4c0f-f090-46150c186578"
      },
      "outputs": [
        {
          "name": "stderr",
          "output_type": "stream",
          "text": [
            "/usr/local/lib/python3.10/dist-packages/gym/wrappers/monitoring/video_recorder.py:101: DeprecationWarning: \u001b[33mWARN: <class 'gym.wrappers.monitoring.video_recorder.VideoRecorder'> is marked as deprecated and will be removed in the future.\u001b[0m\n",
            "  logger.deprecation(\n"
          ]
        },
        {
          "name": "stdout",
          "output_type": "stream",
          "text": [
            "\n",
            "Total reward: 6.946949211249446\n"
          ]
        },
        {
          "data": {
            "text/html": [
              "<video width=400 controls><source src=\"data:video/mp4;base64,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\" type=\"video/mp4\"></video>"
            ],
            "text/plain": [
              "<IPython.core.display.HTML object>"
            ]
          },
          "execution_count": 11,
          "metadata": {},
          "output_type": "execute_result"
        }
      ],
      "source": [
        "env = gym.make(env_name, render_mode=\"rgb_array\")\n",
        "vid = VideoRecorder(env, path=f\"video/{env_name}_learned.mp4\")\n",
        "observation = env.reset()[0]\n",
        "\n",
        "total_reward = 0\n",
        "done = False\n",
        "while not done:\n",
        "  frame = env.render()\n",
        "  vid.capture_frame()\n",
        "  action, states = model.predict(observation, deterministic=True)\n",
        "  observation, reward, done, info, _ = env.step(action)\n",
        "  total_reward += reward\n",
        "vid.close()\n",
        "env.close()\n",
        "print(f\"\\nTotal reward: {total_reward}\")\n",
        "\n",
        "# show video\n",
        "html = render_mp4(f\"video/{env_name}_learned.mp4\")\n",
        "HTML(html)"
      ]
    },
    {
      "cell_type": "markdown",
      "metadata": {
        "id": "Lk5dAIT92BEW"
      },
      "source": [
        "The lander has landed safely!!\n",
        "\n",
        "Let us analyze its performance (speed and stability). For this purpose, we plot the number of time steps on the x-axis and the episodic reward given by the trained model on the y-axis."
      ]
    },
    {
      "cell_type": "code",
      "execution_count": null,
      "metadata": {
        "colab": {
          "base_uri": "https://localhost:8080/",
          "height": 511
        },
        "id": "RRg4Qgdk2BEW",
        "outputId": "8398692d-b4e7-4dd8-aa68-8627756c9d85"
      },
      "outputs": [
        {
          "name": "stderr",
          "output_type": "stream",
          "text": [
            "/usr/local/lib/python3.10/dist-packages/ipykernel/ipkernel.py:283: DeprecationWarning: `should_run_async` will not call `transform_cell` automatically in the future. Please pass the result to `transformed_cell` argument and any exception that happen during thetransform in `preprocessing_exc_tuple` in IPython 7.17 and above.\n",
            "  and should_run_async(code)\n"
          ]
        },
        {
          "data": {
            "image/png": "[encoded data removed]",
            "text/plain": [
              "<Figure size 640x480 with 1 Axes>"
            ]
          },
          "metadata": {},
          "output_type": "display_data"
        }
      ],
      "source": [
        "x, y = ts2xy(load_results(log_dir), 'timesteps')  # Organising the logged results in to a clean format for plotting.\n",
        "plt.plot(x, y)\n",
        "plt.ylim([-300, 300])\n",
        "plt.xlabel('Timesteps')\n",
        "plt.ylabel('Episode Rewards')\n",
        "plt.show()"
      ]
    },
    {
      "cell_type": "markdown",
      "metadata": {
        "id": "CX8DTfJu2BEW"
      },
      "source": [
        "From the above plot, we observe that, although the maximum reward is achieved quickly. Achieving an episodic reward of > 200 is good. We see that the agent has achieved it in less than 50000 timesteps (speed is good!). However, there are a lot of fluctuations in the performance (stability is not good!).\n",
        "\n",
        "Your objective now is to modify the model parameters (nn_layers, learning_rate in the code cell #2 above), run all the cells following it and investigate the stability and speed of the chosen configuration.   \n"
      ]
    },
    {
      "cell_type": "markdown",
      "metadata": {
        "id": "6Szh39Ng2BEX"
      },
      "source": [
        "---\n",
        "# Additional Project Ideas"
      ]
    },
    {
      "cell_type": "markdown",
      "metadata": {
        "id": "bszvNf012BEX"
      },
      "source": [
        "## 1 Play with exploration-exploitation trade-off\n",
        "\n",
        "Exploration (selecting random actions) and exploitation (selecting greedy action) is a crucial component of the DQN algorithm. Explore random actions for a long time will slow down the training process. At the same time, if all actions are not explored enough, it might lead to a sub-optimal performance. In the DQN code above, we have used the following parameters:"
      ]
    },
    {
      "cell_type": "code",
      "execution_count": null,
      "metadata": {
        "colab": {
          "background_save": true,
          "base_uri": "https://localhost:8080/",
          "height": 313
        },
        "id": "b3qIIycs2BEX",
        "outputId": "29e930f0-ce15-4bea-fb5a-e5326a123096"
      },
      "outputs": [
        {
          "data": {
            "text/html": [
              "<pre style=\"white-space:pre;overflow-x:auto;line-height:normal;font-family:Menlo,'DejaVu Sans Mono',consolas,'Courier New',monospace\"><span style=\"color: #800080; text-decoration-color: #800080\"> 100%</span> <span style=\"color: #f92672; text-decoration-color: #f92672\">━━━━━━━━━━━━━━━━━━━━━━━━━━━━━━━━━━━━━━━━━━━━━━━━━━━━━━━━━━━╸</span> <span style=\"color: #008000; text-decoration-color: #008000\">99,988/100,000 </span> [ <span style=\"color: #808000; text-decoration-color: #808000\">0:08:23</span> &lt; <span style=\"color: #008080; text-decoration-color: #008080\">0:00:01</span> , <span style=\"color: #800000; text-decoration-color: #800000\">177 it/s</span> ]\n",
              "</pre>\n"
            ],
            "text/plain": [
              "\u001b[35m 100%\u001b[0m \u001b[38;2;249;38;114m━━━━━━━━━━━━━━━━━━━━━━━━━━━━━━━━━━━━━━━━━━━━━━━━━━━━━━━━━━━\u001b[0m\u001b[38;2;249;38;114m╸\u001b[0m \u001b[32m99,988/100,000 \u001b[0m [ \u001b[33m0:08:23\u001b[0m < \u001b[36m0:00:01\u001b[0m , \u001b[31m177 it/s\u001b[0m ]\n"
            ]
          },
          "metadata": {},
          "output_type": "display_data"
        },
        {
          "data": {
            "text/html": [
              "<pre style=\"white-space:pre;overflow-x:auto;line-height:normal;font-family:Menlo,'DejaVu Sans Mono',consolas,'Courier New',monospace\">Eval num_timesteps=100000, episode_reward=168.32 +/- 120.24\n",
              "</pre>\n"
            ],
            "text/plain": [
              "Eval num_timesteps=100000, episode_reward=168.32 +/- 120.24\n"
            ]
          },
          "metadata": {},
          "output_type": "display_data"
        },
        {
          "data": {
            "text/html": [
              "<pre style=\"white-space:pre;overflow-x:auto;line-height:normal;font-family:Menlo,'DejaVu Sans Mono',consolas,'Courier New',monospace\">Episode length: 378.60 +/- 87.08\n",
              "</pre>\n"
            ],
            "text/plain": [
              "Episode length: 378.60 +/- 87.08\n"
            ]
          },
          "metadata": {},
          "output_type": "display_data"
        },
        {
          "data": {
            "text/html": [
              "<pre style=\"white-space:pre;overflow-x:auto;line-height:normal;font-family:Menlo,'DejaVu Sans Mono',consolas,'Courier New',monospace\">New best mean reward!\n",
              "</pre>\n"
            ],
            "text/plain": [
              "New best mean reward!\n"
            ]
          },
          "metadata": {},
          "output_type": "display_data"
        },
        {
          "data": {
            "text/html": [
              "<pre style=\"white-space:pre;overflow-x:auto;line-height:normal;font-family:Menlo,'DejaVu Sans Mono',consolas,'Courier New',monospace\"></pre>\n"
            ],
            "text/plain": []
          },
          "metadata": {},
          "output_type": "display_data"
        },
        {
          "data": {
            "text/html": [
              "<pre style=\"white-space:pre;overflow-x:auto;line-height:normal;font-family:Menlo,'DejaVu Sans Mono',consolas,'Courier New',monospace\">\n",
              "</pre>\n"
            ],
            "text/plain": [
              "\n"
            ]
          },
          "metadata": {},
          "output_type": "display_data"
        },
        {
          "data": {
            "image/png": "[encoded data removed]",
            "text/plain": [
              "<Figure size 640x480 with 1 Axes>"
            ]
          },
          "metadata": {},
          "output_type": "display_data"
        }
      ],
      "source": [
        "exploration_initial_eps = 0.7  # initial value of random action probability. Range is between 0 and 1.\n",
        "exploration_fraction = 1  # fraction of entire training period over which the exploration rate is reduced. Range is between 0 and 1.\n",
        "exploration_final_eps = 0.3  # (set by defualt) final value of random action probability. Range is between 0 and 1.\n",
        "\n",
        "model = DQN(\"MlpPolicy\", env, policy_kwargs = policy_kwargs,\n",
        "            learning_rate=learning_rate,\n",
        "            batch_size=1,  # for simplicity, we are not doing batch update.\n",
        "            buffer_size=1,  # size of experience of replay buffer. Set to 1 as batch update is not done\n",
        "            learning_starts=1,  # learning starts immediately!\n",
        "            gamma=0.99,  # discount facto. range is between 0 and 1.\n",
        "            tau = 1,  # the soft update coefficient for updating the target network\n",
        "            target_update_interval=1,  # update the target network immediately.\n",
        "            train_freq=(1,\"step\"),  # train the network at every step.\n",
        "            max_grad_norm = 10,  # the maximum value for the gradient clipping\n",
        "            exploration_initial_eps = exploration_initial_eps,  # initial value of random action probability\n",
        "            exploration_fraction = exploration_fraction,  # fraction of entire training period over which the exploration rate is reduced\n",
        "            exploration_final_eps = exploration_final_eps,\n",
        "            gradient_steps = 1,  # number of gradient steps\n",
        "            seed = 1,  # seed for the pseudo random generators\n",
        "            verbose=0,\n",
        "            device=device)\n",
        "\n",
        "model.learn(total_timesteps=100000, log_interval=10, callback=callback, progress_bar=True)\n",
        "\n",
        "x, y = ts2xy(load_results(log_dir), 'timesteps')  # Organising the logged results in to a clean format for plotting.\n",
        "plt.plot(x, y)\n",
        "plt.ylim([-300, 300])\n",
        "plt.xlabel('Timesteps')\n",
        "plt.ylabel('Episode Rewards')\n",
        "plt.show()"
      ]
    },
    {
      "cell_type": "markdown",
      "metadata": {
        "id": "8zY0QoV42BEX"
      },
      "source": [
        "Your objective is to play around with these parameters and analyze their performance (speed and stability). You can modify these parameters and set them as arguments in DQN(...,exploration_initial_eps = 1, exploration_fraction = 0.5, exploration_final_eps = 0.05,...)."
      ]
    },
    {
      "cell_type": "markdown",
      "metadata": {
        "id": "v0Mopjpo2BEX"
      },
      "source": [
        "## 2 Reward Shaping\n",
        "\n",
        "Your objective here is to construct a modified reward function that improves the performance of the Lunar Lander. To this end, you would have to create your own custom environment. An example of a custom environment is given below:"
      ]
    },
    {
      "cell_type": "code",
      "execution_count": null,
      "metadata": {
        "colab": {
          "background_save": true
        },
        "id": "Fjzalqrp2BEX",
        "outputId": "88a7608f-1098-49ed-cd6f-9629d32c0a75"
      },
      "outputs": [
        {
          "name": "stderr",
          "output_type": "stream",
          "text": [
            "/usr/local/lib/python3.10/dist-packages/ipykernel/ipkernel.py:283: DeprecationWarning: `should_run_async` will not call `transform_cell` automatically in the future. Please pass the result to `transformed_cell` argument and any exception that happen during thetransform in `preprocessing_exc_tuple` in IPython 7.17 and above.\n",
            "  and should_run_async(code)\n"
          ]
        }
      ],
      "source": [
        "# Taken from https://stable-baselines3.readthedocs.io/en/master/guide/custom_env.html\n",
        "class CustomEnv(gym.Env):\n",
        "  \"\"\"Custom Environment that follows gym interface\"\"\"\n",
        "  metadata = {'render.modes': ['human']}\n",
        "\n",
        "  def __init__(self, arg1, arg2):\n",
        "    super(CustomEnv, self).__init__()\n",
        "    # Define action and observation space\n",
        "    # They must be gym.spaces objects\n",
        "    # Example when using discrete actions:\n",
        "    self.action_space = spaces.Discrete(N_DISCRETE_ACTIONS)\n",
        "    # Example for using image as input (channel-first; channel-last also works):\n",
        "    self.observation_space = spaces.Box(low=0, high=255,\n",
        "                                        shape=(N_CHANNELS, HEIGHT, WIDTH), dtype=np.uint8)\n",
        "\n",
        "  def step(self, action):\n",
        "    ...\n",
        "    return observation, reward, done, info\n",
        "  def reset(self):\n",
        "    ...\n",
        "    return observation  # reward, done, info can't be included\n",
        "  def render(self, mode='human'):\n",
        "    ...\n",
        "  def close (self):\n",
        "    ..."
      ]
    },
    {
      "cell_type": "markdown",
      "metadata": {
        "id": "a-UIu_F42BEX"
      },
      "source": [
        "As you are only changing the reward structure, you can inherit the [original Lunar Lander environment](https://github.com/openai/gym/blob/master/gym/envs/box2d/lunar_lander.py) and modify just the \"step\" function. Focus on modifying the following part of the code in the \"step\" function."
      ]
    },
    {
      "cell_type": "code",
      "execution_count": null,
      "metadata": {
        "colab": {
          "background_save": true
        },
        "id": "dDoe8DnY2BEX"
      },
      "outputs": [],
      "source": [
        "def step(self, actions):\n",
        "  ...\n",
        "  ...\n",
        "  ...\n",
        "  reward = 0\n",
        "  shaping = (\n",
        "      -100 * np.sqrt(state[0] * state[0] + state[1] * state[1])\n",
        "      - 100 * np.sqrt(state[2] * state[2] + state[3] * state[3])\n",
        "      - 100 * abs(state[4])\n",
        "      + 10 * state[6]\n",
        "      + 10 * state[7]\n",
        "  )  # And ten points for legs contact, the idea is if you\n",
        "  # lose contact again after landing, you get negative reward\n",
        "  if self.prev_shaping is not None:\n",
        "      reward = shaping - self.prev_shaping\n",
        "  self.prev_shaping = shaping\n",
        "\n",
        "  reward -= (\n",
        "      m_power * 0.30\n",
        "  )  # less fuel spent is better, about -30 for heuristic landing. You should modify these values.\n",
        "  reward -= s_power * 0.03\n",
        "\n",
        "  done = False\n",
        "  if self.game_over or abs(state[0]) >= 1.0:\n",
        "      done = True\n",
        "      reward = -100\n",
        "  if not self.lander.awake:\n",
        "      done = True\n",
        "      reward = +100\n",
        "  return np.array(state, dtype=np.float32), reward, done, {}"
      ]
    },
    {
      "cell_type": "markdown",
      "metadata": {
        "id": "54nCgzVO2BEX"
      },
      "source": [
        "Once you have cutomized your own environment, you can execute that environment by just calling:"
      ]
    },
    {
      "cell_type": "code",
      "execution_count": null,
      "metadata": {
        "colab": {
          "background_save": true
        },
        "id": "xbWGqYRu2BEY"
      },
      "outputs": [],
      "source": [
        "## Enter the name of the custome environment you created and uncomment the line below.\n",
        "# env = Custom_LunarLander()"
      ]
    },
    {
      "cell_type": "markdown",
      "metadata": {
        "id": "FrdVnrp32BEY"
      },
      "source": [
        "**Note:** Refer to [this page](https://stable-baselines3.readthedocs.io/en/master/guide/custom_env.html), if you would like to create more complex environments."
      ]
    },
    {
      "cell_type": "markdown",
      "metadata": {
        "id": "SLuz8y3c2BEY"
      },
      "source": [
        "## 3 Identify the state information crucial to its performance.\n",
        "\n",
        "Your objective here is to alter the input state information and analyze the performance. The input state of the Lunar Lander consists of following components:\n",
        "\n",
        "  1. Horizontal Position\n",
        "  2. Vertical Position\n",
        "  3. Horizontal Velocity\n",
        "  4. Vertical Velocity\n",
        "  5. Angle\n",
        "  6. Angular Velocity\n",
        "  7. Left Leg Contact\n",
        "  8. Right Leg Contact\n",
        "\n",
        "You can train the algorithm by masking one of the eight components at a time and understand how that affects the performance of the algorithm. Similar to the reward shaping task, you would have to create a custom environment and modify the state space. Again, you can inherit all the necessary functions and modify the following portion of the \"Step\" function:"
      ]
    },
    {
      "cell_type": "code",
      "execution_count": null,
      "metadata": {
        "colab": {
          "background_save": true
        },
        "id": "aKztn9QT2BEY"
      },
      "outputs": [],
      "source": [
        "def step(self, actions):\n",
        "  ...\n",
        "  ...\n",
        "  ...\n",
        "  state = [ # Remove one component at a time to investigate the effect on performance!\n",
        "            (pos.x - VIEWPORT_W / SCALE / 2) / (VIEWPORT_W / SCALE / 2),\n",
        "            (pos.y - (self.helipad_y + LEG_DOWN / SCALE)) / (VIEWPORT_H / SCALE / 2),\n",
        "            vel.x * (VIEWPORT_W / SCALE / 2) / FPS,\n",
        "            vel.y * (VIEWPORT_H / SCALE / 2) / FPS,\n",
        "            self.lander.angle,\n",
        "            20.0 * self.lander.angularVelocity / FPS,\n",
        "            1.0 if self.legs[0].ground_contact else 0.0,\n",
        "            1.0 if self.legs[1].ground_contact else 0.0,\n",
        "        ]"
      ]
    },
    {
      "cell_type": "markdown",
      "metadata": {
        "id": "o4bOp1Ef2BEY"
      },
      "source": [
        "## 4 Extension to Atari Games\n",
        "\n",
        "In the Lunar Lander task, the input to the algorithm is a vector of state information. Deep RL algorithms can also be applied when the input to the training is image frames, which is the case in the Atari games. For example, consider an Atari game - Pong. In this environment, the observation is an RGB image of the screen, which is an array of shape (210, 160, 3). To train the Pong game, you can start with the following sample code:"
      ]
    },
    {
      "cell_type": "code",
      "execution_count": null,
      "metadata": {
        "colab": {
          "background_save": true
        },
        "id": "0t5P9Fip2BEY"
      },
      "outputs": [],
      "source": [
        "## Taken from: https://colab.research.google.com/github/Stable-Baselines-Team/rl-colab-notebooks/blob/sb3/atari_games.ipynb#scrollTo=f3K4rMXwimBO\n",
        "env = make_atari_env('PongNoFrameskip-v4', n_envs=4, seed=0)\n",
        "\n",
        "## Atari Games take a lot of memory. Following commands crash on Coalb. Run the following code on Colab Pro or your local Jupyter notebook!\n",
        "# env = VecFrameStack(env, n_stack=4)\n",
        "# model = DQN('CnnPolicy', env, verbose=1)  # Note the difference here! We use 'CnnPolicy\" here instead of 'MlpPolicy' as the input is frames.\n",
        "# model.learn(total_timesteps=1) #change the number of timesteps as desired and run this command!"
      ]
    },
    {
      "cell_type": "markdown",
      "metadata": {
        "id": "qN6RmvJR2BEc"
      },
      "source": [
        "## 5 Obstacle Avoidance and Transfer Learning\n",
        "\n",
        "Your obstacle here is to add an obstacle in the path of the lunar lander (by creating a custom environment as described in point 2 above) and train the model such that the lander lands safely, avoiding collisions.\n",
        "\n",
        "You would first want to devise a mechansim for adding obstacles. For example, you could have an imaginary obstacle at some horizantal and vertical position cooridnates and modify the reward function such that a penalty is levied if the lander comes close to it.\n",
        "\n",
        "An interesting approach to solve this problem is to apply the techniques of transfer learning. For example, you could initialise the neural network model with the weights of the trained model on the original problem to improve the sample effeciency. This can be done using the following code:"
      ]
    },
    {
      "cell_type": "code",
      "execution_count": null,
      "metadata": {
        "colab": {
          "background_save": true
        },
        "id": "Ef-b0Ngn2BEc"
      },
      "outputs": [],
      "source": [
        "## Specify the load path and uncomment below:\n",
        "\n",
        "# model = load(load_path,\n",
        "#              env=gym.make('LunarLander-v2'),\n",
        "#              custom_objects=None, **kwargs)"
      ]
    },
    {
      "cell_type": "markdown",
      "metadata": {
        "id": "VWtzozGD2BEc"
      },
      "source": [
        "Following are some of the resources on transfer learning that you would want to start with.\n",
        "\n",
        "**Research Papers**\n",
        "\n",
        "Surveys:\n",
        "1. Taylor, M. E.,  et al. (2009). Transfer learning for reinforcement learning domains. url: [www.jmlr.org/papers/volume10/taylor09a/taylor09a](https://www.jmlr.org/papers/volume10/taylor09a/taylor09a.pdf)\n",
        "   - Long, Old, Highly cited\n",
        "\n",
        "2. Lazaric, A. (2012). Transfer in reinforcement learning: a framework and a survey. url: [hal.inria.fr/docs/00/77/26/26/PDF/transfer](https://hal.inria.fr/docs/00/77/26/26/PDF/transfer.pdf)\n",
        "   - Medium, Old, Good for a quick read\n",
        "\n",
        "3. Zhu, Z., Lin, K., & Zhou, J. (2020). Transfer learning in deep reinforcement learning. [arxiv:2009.07888](https://arxiv.org/pdf/2009.07888.pdf)\n",
        "  - Medium, Recent, Good for a quick read\n",
        "\n",
        "4. Barreto, A., et al. (2016). Successor features for transfer in reinforcement learning. [arxiv:1606.05312](https://arxiv.org/pdf/1606.05312)\n",
        "  - Specific example"
      ]
    },
    {
      "cell_type": "markdown",
      "metadata": {
        "id": "YrDMGTmu2BEc"
      },
      "source": [
        "## 5(b) Transfer Learning in minigrid environment\n",
        "\n",
        "These are some simple gridworld gym environments designed to be particularly simple, lightweight and fast. Refer to [this repo](https://github.com/maximecb/gym-minigrid) for a description of the environments. An example to load a minigrid environment is given below."
      ]
    },
    {
      "cell_type": "code",
      "execution_count": null,
      "metadata": {
        "colab": {
          "background_save": true
        },
        "id": "82B9d-0o2BEc"
      },
      "outputs": [],
      "source": [
        "env = gym.make('MiniGrid-Empty-5x5-v0', render_mode='rgb_array')"
      ]
    },
    {
      "cell_type": "markdown",
      "metadata": {
        "id": "IHYI2fjd2BEc"
      },
      "source": [
        "You can train a standard DQN agent in this env by wrapping the env with full image observation wrappers:\n"
      ]
    },
    {
      "cell_type": "code",
      "execution_count": null,
      "metadata": {
        "colab": {
          "background_save": true
        },
        "id": "YjxjzbOJ2BEc"
      },
      "outputs": [],
      "source": [
        "import minigrid\n",
        "env = minigrid.wrappers.ImgObsWrapper(minigrid.wrappers.RGBImgObsWrapper(env))"
      ]
    },
    {
      "cell_type": "markdown",
      "metadata": {
        "id": "UdSnGWhp2BEd"
      },
      "source": [
        "Note that with full image observations, the shape of the image observations may differ between envs. For e.g., MiniGrid-Empty-5x5-v0 is (40,40,3) while MiniGrid-Empty-8x8-v0 is (64,64,3). So you may need to resize the observations for transfer learning to work with the same DQN architecture.\n",
        "\n",
        "Now try training a DQN (or another method) in one (or multiple) minigrid env(s),and see if that knowledge transfers to another (or multiple other) minigrid env(s).\n"
      ]
    },
    {
      "cell_type": "markdown",
      "metadata": {
        "id": "2H6DrhCL2BEd"
      },
      "source": [
        "## 6 Preference-Based RL (PBRL)\n",
        "\n",
        "PBRL is an exciting sub-area in RL where the traditional reward structure is replaced with human preferences. This setting is very useful in applications where it is difficult to construct a reward function.\n",
        "\n",
        "In the earlier section, we have successfully trained the lunar lander to land safely. Here, the path that the lander follows to land safely can be arbitrary. In this project, using the techniques of PBRL, you will solve the lunar lander problem with an additional requirement that the lander should follow a specially curated path (for example, a straight line path). Following are some of the resources that will help you to get started with this project.\n",
        "\n",
        "**Research papers:**\n",
        "1. [Deep Reinforcement Learning from Human Preferences](https://papers.nips.cc/paper/2017/file/d5e2c0adad503c91f91df240d0cd4e49-Paper.pdf)\n",
        "2. [Deep Q-learning from Demonstrations](https://arxiv.org/pdf/1704.03732.pdf)\n",
        "3. [Reward learning from human preferences](https://arxiv.org/pdf/1811.06521.pdf)\n",
        "4. [T-REX](https://arxiv.org/pdf/1904.06387.pdf)\n",
        "\n",
        "**Code Bases:**\n",
        "1. [rl-teacher](https://github.com/nottombrown/rl-teacher)\n",
        "2. [ICML2019-TREX](https://github.com/hiwonjoon/ICML2019-TREX)"
      ]
    },
    {
      "cell_type": "markdown",
      "metadata": {
        "id": "gu-mR2q22BEd"
      },
      "source": [
        "---\n",
        "# References\n",
        "\n",
        "1. [Stable Baselines Framework](https://stable-baselines3.readthedocs.io/en/master/guide/examples.html)\n",
        "2. [Lunar Lander Environment](https://gym.openai.com/envs/LunarLander-v2/)\n",
        "3. [OpenAI gym environments](https://gym.openai.com/docs/)\n",
        "4. [A good reference for introduction to RL](http://incompleteideas.net/book/the-book-2nd.html)\n"
      ]
    }
  ],
  "metadata": {
    "colab": {
      "provenance": []
    },
    "kernel": {
      "display_name": "Python 3",
      "language": "python",
      "name": "python3"
    },
    "kernelspec": {
      "display_name": "Python 3",
      "name": "python3"
    },
    "language_info": {
      "name": "python"
    },
    "widgets": {
      "application/vnd.jupyter.widget-state+json": {
        "87d510a4894d4ffeb6451984b8cb900e": {
          "model_module": "@jupyter-widgets/base",
          "model_module_version": "1.2.0",
          "model_name": "LayoutModel",
          "state": {
            "_model_module": "@jupyter-widgets/base",
            "_model_module_version": "1.2.0",
            "_model_name": "LayoutModel",
            "_view_count": null,
            "_view_module": "@jupyter-widgets/base",
            "_view_module_version": "1.2.0",
            "_view_name": "LayoutView",
            "align_content": null,
            "align_items": null,
            "align_self": null,
            "border": null,
            "bottom": null,
            "display": null,
            "flex": null,
            "flex_flow": null,
            "grid_area": null,
            "grid_auto_columns": null,
            "grid_auto_flow": null,
            "grid_auto_rows": null,
            "grid_column": null,
            "grid_gap": null,
            "grid_row": null,
            "grid_template_areas": null,
            "grid_template_columns": null,
            "grid_template_rows": null,
            "height": null,
            "justify_content": null,
            "justify_items": null,
            "left": null,
            "margin": null,
            "max_height": null,
            "max_width": null,
            "min_height": null,
            "min_width": null,
            "object_fit": null,
            "object_position": null,
            "order": null,
            "overflow": null,
            "overflow_x": null,
            "overflow_y": null,
            "padding": null,
            "right": null,
            "top": null,
            "visibility": null,
            "width": null
          }
        },
        "eb5841e289a0492b8a64d30708b800c0": {
          "model_module": "@jupyter-widgets/output",
          "model_module_version": "1.0.0",
          "model_name": "OutputModel",
          "state": {
            "_dom_classes": [],
            "_model_module": "@jupyter-widgets/output",
            "_model_module_version": "1.0.0",
            "_model_name": "OutputModel",
            "_view_count": null,
            "_view_module": "@jupyter-widgets/output",
            "_view_module_version": "1.0.0",
            "_view_name": "OutputView",
            "layout": "IPY_MODEL_87d510a4894d4ffeb6451984b8cb900e",
            "msg_id": "",
            "outputs": [
              {
                "data": {
                  "text/html": "<pre style=\"white-space:pre;overflow-x:auto;line-height:normal;font-family:Menlo,'DejaVu Sans Mono',consolas,'Courier New',monospace\"><span style=\"color: #800080; text-decoration-color: #800080\"> 100%</span> <span style=\"color: #f92672; text-decoration-color: #f92672\">━━━━━━━━━━━━━━━━━━━━━━━━━━━━━━━━━━━━━━━━━━━━━━━━━━━━━━━━━━━╸</span> <span style=\"color: #008000; text-decoration-color: #008000\">99,974/100,000 </span> [ <span style=\"color: #808000; text-decoration-color: #808000\">0:07:42</span> &lt; <span style=\"color: #008080; text-decoration-color: #008080\">0:00:01</span> , <span style=\"color: #800000; text-decoration-color: #800000\">225 it/s</span> ]\n</pre>\n",
                  "text/plain": "\u001b[35m 100%\u001b[0m \u001b[38;2;249;38;114m━━━━━━━━━━━━━━━━━━━━━━━━━━━━━━━━━━━━━━━━━━━━━━━━━━━━━━━━━━━\u001b[0m\u001b[38;2;249;38;114m╸\u001b[0m \u001b[32m99,974/100,000 \u001b[0m [ \u001b[33m0:07:42\u001b[0m < \u001b[36m0:00:01\u001b[0m , \u001b[31m225 it/s\u001b[0m ]\n"
                },
                "metadata": {},
                "output_type": "display_data"
              }
            ]
          }
        }
      }
    }
  },
  "nbformat": 4,
  "nbformat_minor": 0
}